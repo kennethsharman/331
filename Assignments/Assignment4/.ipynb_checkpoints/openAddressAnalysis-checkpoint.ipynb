{
 "cells": [
  {
   "cell_type": "code",
   "execution_count": 2,
   "metadata": {},
   "outputs": [],
   "source": [
    "import math\n",
    "\n",
    "\"\"\"\n",
    "Function gives the upper bounds on the expected number of probes in a hash table search with load\n",
    "factor alpha.\n",
    "    Parameters:\n",
    "        alpha: load factor\n",
    "        probe: String representation of Probing strategy (Linear, Quadtratic, Double Hashing)\n",
    "        suceess: Boolean representing the outcome of search (successful or unsuccessful)\n",
    "    Returns the ceiling value of the number of probes required to perform search\n",
    "\"\"\"\n",
    "def openAddressingProbes( alpha, probe, success=True):\n",
    "    if success == False:\n",
    "        if probe == 'Linear':\n",
    "            num_probes = 0.5 * ( 1.0 + ( 1.0 / ( 1.0-alpha )**2 ) )\n",
    "        elif probe == 'Quadratic':\n",
    "            num_probes = (1.0 / (1.0-alpha) ) - alpha - math.log( 1.0-alpha )\n",
    "        elif probe == 'Double Hashing':\n",
    "            num_probes = 1.0 / ( 1.0-alpha )\n",
    "    else:\n",
    "        if probe == 'Linear':\n",
    "            num_probes = 0.5 * ( 1.0 + ( 1.0 / ( 1.0-alpha ) ) )\n",
    "        elif probe == 'Quadratic':\n",
    "            num_probes = 1.0 - math.log( 1.0-alpha ) - ( alpha/2.0 )\n",
    "        elif probe == 'Double Hashing':\n",
    "            num_probes = ( 1.0 / alpha ) * math.log( 1.0 / (1.0-alpha) )\n",
    "    return math.ceil( num_probes )"
   ]
  },
  {
   "cell_type": "code",
   "execution_count": 3,
   "metadata": {},
   "outputs": [
    {
     "name": "stdout",
     "output_type": "stream",
     "text": [
      "** Load Factor: alpha = 3/4 **\n",
      "Linear Successful:           3\n",
      "Linear Unsuccessful:         9\n",
      "Quadratic Successful:        3\n",
      "Quadratic Unsuccessful:      5\n",
      "Double Hashing Successful:   2\n",
      "Double Hashing Unsuccessful: 4\n"
     ]
    }
   ],
   "source": [
    "alpha = 3.0/4.0\n",
    "print( '** Load Factor: alpha = 3/4 **' )\n",
    "print( 'Linear Successful: %11d' % openAddressingProbes(alpha, 'Linear') )\n",
    "print( 'Linear Unsuccessful: %9d' % openAddressingProbes(alpha, 'Linear', False) )\n",
    "print( 'Quadratic Successful: %8d' % openAddressingProbes(alpha, 'Quadratic') )\n",
    "print( 'Quadratic Unsuccessful: %6d' % openAddressingProbes(alpha, 'Quadratic', False) )\n",
    "print( 'Double Hashing Successful: %3d' % openAddressingProbes(alpha, 'Double Hashing') )\n",
    "print( 'Double Hashing Unsuccessful: %0d' % openAddressingProbes(alpha, 'Double Hashing', False) )"
   ]
  },
  {
   "cell_type": "code",
   "execution_count": 4,
   "metadata": {},
   "outputs": [
    {
     "name": "stdout",
     "output_type": "stream",
     "text": [
      "** Load Factor: alpha = 7/8 **\n",
      "Linear Successful:           5\n",
      "Linear Unsuccessful:        33\n",
      "Quadratic Successful:        3\n",
      "Quadratic Unsuccessful:     10\n",
      "Double Hashing Successful:   3\n",
      "Double Hashing Unsuccessful: 8\n"
     ]
    }
   ],
   "source": [
    "alpha = 7.0/8.0\n",
    "print( '** Load Factor: alpha = 7/8 **' )\n",
    "print( 'Linear Successful: %11d' % openAddressingProbes(alpha, 'Linear') )\n",
    "print( 'Linear Unsuccessful: %9d' % openAddressingProbes(alpha, 'Linear', False) )\n",
    "print( 'Quadratic Successful: %8d' % openAddressingProbes(alpha, 'Quadratic') )\n",
    "print( 'Quadratic Unsuccessful: %6d' % openAddressingProbes(alpha, 'Quadratic', False) )\n",
    "print( 'Double Hashing Successful: %3d' % openAddressingProbes(alpha, 'Double Hashing') )\n",
    "print( 'Double Hashing Unsuccessful: %0d' % openAddressingProbes(alpha, 'Double Hashing', False) )"
   ]
  },
  {
   "cell_type": "code",
   "execution_count": null,
   "metadata": {},
   "outputs": [],
   "source": []
  }
 ],
 "metadata": {
  "kernelspec": {
   "display_name": "Python 3",
   "language": "python",
   "name": "python3"
  },
  "language_info": {
   "codemirror_mode": {
    "name": "ipython",
    "version": 3
   },
   "file_extension": ".py",
   "mimetype": "text/x-python",
   "name": "python",
   "nbconvert_exporter": "python",
   "pygments_lexer": "ipython3",
   "version": "3.6.3"
  }
 },
 "nbformat": 4,
 "nbformat_minor": 2
}
